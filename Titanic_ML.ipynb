{
  "nbformat": 4,
  "nbformat_minor": 0,
  "metadata": {
    "colab": {
      "name": "Titanic ML.ipynb",
      "provenance": [],
      "collapsed_sections": [],
      "authorship_tag": "ABX9TyO2ORyA6e0F9sJsx7KTSdmd"
    },
    "kernelspec": {
      "name": "python3",
      "display_name": "Python 3"
    }
  },
  "cells": [
    {
      "cell_type": "code",
      "metadata": {
        "id": "20qv-M7TJNC8",
        "colab_type": "code",
        "colab": {}
      },
      "source": [
        "from __future__ import absolute_import, division, print_function, unicode_literals\n",
        "import pandas as pd\n",
        "import tensorflow as tf\n",
        "import csv\n",
        "from google.colab import files\n",
        "import io"
      ],
      "execution_count": 73,
      "outputs": []
    },
    {
      "cell_type": "code",
      "metadata": {
        "id": "r9e8-8KkICQA",
        "colab_type": "code",
        "colab": {}
      },
      "source": [
        "dftrain = pd.read_csv('https://storage.googleapis.com/tf-datasets/titanic/train.csv')\n",
        "eval = {'survived': [0],\n",
        "        'sex': [input(\"What is your gender \" + str(feature_columns[0][1]) + \" ? \" )],\n",
        "        'age': [int(input(\"What is your age \" + str(feature_columns[7][1]) + \" ? \"))],\n",
        "        'n_siblings_spouses': [int(input(\"How many siblings \" + str(feature_columns[1][1]) + \" ? \"))],\n",
        "        'parch': [int(input(\"What is your parch \" + str(feature_columns[2][1]) + \" ? \"))],\n",
        "        'fare': [int(input(\"What is the fare \" + str(feature_columns[8][1]) + \" ? \"))],\n",
        "        'class': [input(\"What is your class \" + str(feature_columns[3][1]) + \" ? \")],\n",
        "        'deck': [input(\"What is your deck \" + str(feature_columns[4][1]) + \" ? \")],\n",
        "        'embark_town': [input(\"What is your destination \" + str(feature_columns[5][1]) + \" ? \")],\n",
        "        'alone': [input(\"Are you travelling alone \" + str(feature_columns[6][1]) + \" ? \")]}\n",
        "dfeval = pd.DataFrame(eval) \n",
        "y_train = dftrain.pop('survived')\n",
        "y_eval = dfeval.pop('survived')\n",
        "CATEGORICAL_COLUMNS = ['sex', 'n_siblings_spouses', 'parch', 'class', 'deck',\n",
        "                       'embark_town', 'alone']\n",
        "NUMERIC_COLUMNS = ['age', 'fare']\n",
        "feature_columns = []\n",
        "for feature_name in CATEGORICAL_COLUMNS:\n",
        "  vocabulary = dftrain[feature_name].unique()\n",
        "  feature_columns.append(tf.feature_column.categorical_column_with_vocabulary_list(feature_name, vocabulary))\n",
        "for feature_name in NUMERIC_COLUMNS:\n",
        "  feature_columns.append(tf.feature_column.numeric_column(feature_name, dtype=tf.float32))\n",
        "def make_input_fn(data_df, label_df, num_epochs=15, shuffle=True, batch_size=32):\n",
        "  def input_function(): \n",
        "    ds = tf.data.Dataset.from_tensor_slices((dict(data_df), label_df))\n",
        "    if shuffle:\n",
        "      ds = ds.shuffle(1000) \n",
        "    ds = ds.batch(batch_size).repeat(num_epochs)  \n",
        "    return ds \n",
        "  return input_function \n",
        "train_input_fn = make_input_fn(dftrain, y_train)\n",
        "eval_input_fn = make_input_fn(dfeval, y_eval, num_epochs=1, shuffle=False)\n",
        "linear_est = tf.estimator.LinearClassifier(feature_columns=feature_columns)\n",
        "linear_est.train(train_input_fn)\n",
        "result = list(linear_est.predict(eval_input_fn))\n",
        "print(\"Chance of your survival: \" + str(result[0]['probabilities'][1] * 100) + \"%\") "
      ],
      "execution_count": null,
      "outputs": []
    }
  ]
}