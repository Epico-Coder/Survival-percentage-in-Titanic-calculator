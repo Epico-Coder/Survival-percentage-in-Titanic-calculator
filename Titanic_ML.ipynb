{
  "nbformat": 4,
  "nbformat_minor": 0,
  "metadata": {
    "colab": {
      "name": "Titanic ML.ipynb",
      "provenance": [],
      "authorship_tag": "ABX9TyOkwc8l5hDvBnL4PFzZ7FtH",
      "include_colab_link": true
    },
    "kernelspec": {
      "name": "python3",
      "display_name": "Python 3"
    }
  },
  "cells": [
    {
      "cell_type": "markdown",
      "metadata": {
        "id": "view-in-github",
        "colab_type": "text"
      },
      "source": [
        "<a href=\"https://colab.research.google.com/github/Epico-Coder/Survival-percentage-in-Titanic-calculator/blob/master/Titanic_ML.ipynb\" target=\"_parent\"><img src=\"https://colab.research.google.com/assets/colab-badge.svg\" alt=\"Open In Colab\"/></a>"
      ]
    },
    {
      "cell_type": "code",
      "metadata": {
        "id": "20qv-M7TJNC8",
        "colab_type": "code",
        "colab": {}
      },
      "source": [
        "from __future__ import absolute_import, division, print_function, unicode_literals\n",
        "import pandas as pd\n",
        "import tensorflow as tf\n",
        "import csv\n",
        "from google.colab import files\n",
        "import io"
      ],
      "execution_count": 15,
      "outputs": []
    },
    {
      "cell_type": "code",
      "metadata": {
        "id": "r9e8-8KkICQA",
        "colab_type": "code",
        "colab": {
          "base_uri": "https://localhost:8080/",
          "height": 860
        },
        "outputId": "e14a0e8a-9064-462f-f52c-60c3fd804371"
      },
      "source": [
        "dftrain = pd.read_csv('https://storage.googleapis.com/tf-datasets/titanic/train.csv')\n",
        "# uploaded = files.upload()\n",
        "eval = {'survived': [0],\n",
        "        'sex': [input(\"What is your gender \" + str(feature_columns[0][1]) + \" ? \" )],\n",
        "        'age': [int(input(\"What is your age \" + str(feature_columns[7][1]) + \" ? \"))],\n",
        "        'n_siblings_spouses': [int(input(\"How many siblings \" + str(feature_columns[1][1]) + \" ? \"))],\n",
        "        'parch': [int(input(\"What is your parch \" + str(feature_columns[2][1]) + \" ? \"))],\n",
        "        'fare': [int(input(\"What is the fare \" + str(feature_columns[8][1]) + \" ? \"))],\n",
        "        'class': [input(\"What is your class \" + str(feature_columns[3][1]) + \" ? \")],\n",
        "        'deck': [input(\"What is your deck \" + str(feature_columns[4][1]) + \" ? \")],\n",
        "        'embark_town': [input(\"What is your destination \" + str(feature_columns[5][1]) + \" ? \")],\n",
        "        'alone': [input(\"Are you travelling alone \" + str(feature_columns[6][1]) + \" ? \")]}\n",
        "dfeval = pd.DataFrame(eval) \n",
        "# dfeval = pd.read_csv(io.BytesIO(uploaded['eval.csv']))\n",
        "# pd.read_csv('https://storage.googleapis.com/tf-datasets/titanic/eval.csv')\n",
        "y_train = dftrain.pop('survived')\n",
        "y_eval = dfeval.pop('survived')\n",
        "CATEGORICAL_COLUMNS = ['sex', 'n_siblings_spouses', 'parch', 'class', 'deck',\n",
        "                       'embark_town', 'alone']\n",
        "NUMERIC_COLUMNS = ['age', 'fare']\n",
        "feature_columns = []\n",
        "for feature_name in CATEGORICAL_COLUMNS:\n",
        "  vocabulary = dftrain[feature_name].unique()\n",
        "  feature_columns.append(tf.feature_column.categorical_column_with_vocabulary_list(feature_name, vocabulary))\n",
        "for feature_name in NUMERIC_COLUMNS:\n",
        "  feature_columns.append(tf.feature_column.numeric_column(feature_name, dtype=tf.float32))\n",
        "def make_input_fn(data_df, label_df, num_epochs=15, shuffle=True, batch_size=32):\n",
        "  def input_function(): \n",
        "    ds = tf.data.Dataset.from_tensor_slices((dict(data_df), label_df))\n",
        "    if shuffle:\n",
        "      ds = ds.shuffle(1000) \n",
        "    ds = ds.batch(batch_size).repeat(num_epochs)  \n",
        "    return ds \n",
        "  return input_function \n",
        "train_input_fn = make_input_fn(dftrain, y_train)\n",
        "eval_input_fn = make_input_fn(dfeval, y_eval, num_epochs=1, shuffle=False)\n",
        "linear_est = tf.estimator.LinearClassifier(feature_columns=feature_columns)\n",
        "linear_est.train(train_input_fn)\n",
        "result = list(linear_est.predict(eval_input_fn))\n",
        "print(\"Chance of your survival: \" + str(result[0]['probabilities'][1] * 100) + \"%\") "
      ],
      "execution_count": 70,
      "outputs": [
        {
          "output_type": "stream",
          "text": [
            "What is your gender ('male', 'female') ? male\n",
            "What is your age (1,) ? 90\n",
            "How many siblings (1, 0, 3, 4, 2, 5, 8) ? 0\n",
            "What is your parch (0, 1, 2, 5, 3, 4) ? 0\n",
            "What is the train fare (1,) ? 5\n",
            "What is your class ('Third', 'First', 'Second') ? Third\n",
            "What is your deck ('unknown', 'C', 'G', 'A', 'B', 'D', 'F', 'E') ? unknown\n",
            "What is your destination ('Southampton', 'Cherbourg', 'Queenstown', 'unknown') ? unknown\n",
            "Are you travelling alone ('n', 'y') ? y\n",
            "INFO:tensorflow:Using default config.\n",
            "WARNING:tensorflow:Using temporary folder as model directory: /tmp/tmpcv6dir_9\n",
            "INFO:tensorflow:Using config: {'_model_dir': '/tmp/tmpcv6dir_9', '_tf_random_seed': None, '_save_summary_steps': 100, '_save_checkpoints_steps': None, '_save_checkpoints_secs': 600, '_session_config': allow_soft_placement: true\n",
            "graph_options {\n",
            "  rewrite_options {\n",
            "    meta_optimizer_iterations: ONE\n",
            "  }\n",
            "}\n",
            ", '_keep_checkpoint_max': 5, '_keep_checkpoint_every_n_hours': 10000, '_log_step_count_steps': 100, '_train_distribute': None, '_device_fn': None, '_protocol': None, '_eval_distribute': None, '_experimental_distribute': None, '_experimental_max_worker_delay_secs': None, '_session_creation_timeout_secs': 7200, '_service': None, '_cluster_spec': ClusterSpec({}), '_task_type': 'worker', '_task_id': 0, '_global_id_in_cluster': 0, '_master': '', '_evaluation_master': '', '_is_chief': True, '_num_ps_replicas': 0, '_num_worker_replicas': 1}\n",
            "INFO:tensorflow:Calling model_fn.\n",
            "WARNING:tensorflow:Layer linear/linear_model is casting an input tensor from dtype float64 to the layer's dtype of float32, which is new behavior in TensorFlow 2.  The layer has dtype float32 because its dtype defaults to floatx.\n",
            "\n",
            "If you intended to run this layer in float32, you can safely ignore this warning. If in doubt, this warning is likely only an issue if you are porting a TensorFlow 1.X model to TensorFlow 2.\n",
            "\n",
            "To change all layers to have dtype float64 by default, call `tf.keras.backend.set_floatx('float64')`. To change just this layer, pass dtype='float64' to the layer constructor. If you are the author of this layer, you can disable autocasting by passing autocast=False to the base Layer constructor.\n",
            "\n",
            "INFO:tensorflow:Done calling model_fn.\n",
            "INFO:tensorflow:Create CheckpointSaverHook.\n",
            "INFO:tensorflow:Graph was finalized.\n",
            "INFO:tensorflow:Running local_init_op.\n",
            "INFO:tensorflow:Done running local_init_op.\n",
            "INFO:tensorflow:Calling checkpoint listeners before saving checkpoint 0...\n",
            "INFO:tensorflow:Saving checkpoints for 0 into /tmp/tmpcv6dir_9/model.ckpt.\n",
            "INFO:tensorflow:Calling checkpoint listeners after saving checkpoint 0...\n",
            "INFO:tensorflow:loss = 0.6931472, step = 0\n",
            "INFO:tensorflow:global_step/sec: 321.926\n",
            "INFO:tensorflow:loss = 0.47527063, step = 100 (0.314 sec)\n",
            "INFO:tensorflow:global_step/sec: 638.341\n",
            "INFO:tensorflow:loss = 0.445422, step = 200 (0.157 sec)\n",
            "INFO:tensorflow:Calling checkpoint listeners before saving checkpoint 300...\n",
            "INFO:tensorflow:Saving checkpoints for 300 into /tmp/tmpcv6dir_9/model.ckpt.\n",
            "INFO:tensorflow:Calling checkpoint listeners after saving checkpoint 300...\n",
            "INFO:tensorflow:Loss for final step: 0.50936145.\n",
            "INFO:tensorflow:Calling model_fn.\n",
            "INFO:tensorflow:Done calling model_fn.\n",
            "INFO:tensorflow:Graph was finalized.\n",
            "INFO:tensorflow:Restoring parameters from /tmp/tmpcv6dir_9/model.ckpt-300\n",
            "INFO:tensorflow:Running local_init_op.\n",
            "INFO:tensorflow:Done running local_init_op.\n",
            "Chance of your survival: 2.2504620254039764\n"
          ],
          "name": "stdout"
        }
      ]
    }
  ]
}